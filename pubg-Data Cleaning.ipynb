{
 "cells": [
  {
   "cell_type": "code",
   "execution_count": 1,
   "metadata": {},
   "outputs": [],
   "source": [
    "import numpy as np\n",
    "import pandas as pd\n",
    "import matplotlib.pyplot as plt\n",
    "import seaborn as sns"
   ]
  },
  {
   "cell_type": "code",
   "execution_count": 2,
   "metadata": {},
   "outputs": [],
   "source": [
    "pubg = pd.read_csv(\"train_V2.csv\")"
   ]
  },
  {
   "cell_type": "code",
   "execution_count": 3,
   "metadata": {},
   "outputs": [
    {
     "data": {
      "text/plain": [
       "(4446966, 29)"
      ]
     },
     "execution_count": 3,
     "metadata": {},
     "output_type": "execute_result"
    }
   ],
   "source": [
    "pubg.shape\n",
    "\n",
    "#4446966 rows of data"
   ]
  },
  {
   "cell_type": "code",
   "execution_count": 4,
   "metadata": {},
   "outputs": [],
   "source": [
    "#Drop NA value for winPlacePerc\n",
    "pubg = pubg[pubg['winPlacePerc'].notna()]"
   ]
  },
  {
   "cell_type": "code",
   "execution_count": 5,
   "metadata": {},
   "outputs": [],
   "source": [
    "#Cheater 1: Didn't walk but still get kills\n",
    "\n",
    "pubg_new = pubg[(pubg['kills'] ==0) | (pubg['walkDistance'] >0.0)]\n",
    "#pubg_new\n",
    "#4445416"
   ]
  },
  {
   "cell_type": "code",
   "execution_count": 6,
   "metadata": {},
   "outputs": [
    {
     "data": {
      "text/plain": [
       "0"
      ]
     },
     "execution_count": 6,
     "metadata": {},
     "output_type": "execute_result"
    }
   ],
   "source": [
    "#Check to see if there's more outliers\n",
    "idx = np.where((pubg_new['walkDistance']==0.0) & (pubg_new['kills']>0))\n",
    "len(idx[0])"
   ]
  },
  {
   "cell_type": "code",
   "execution_count": 7,
   "metadata": {},
   "outputs": [],
   "source": [
    "#Cheaters 2: 20 kills above but didn't really move\n",
    "pubg_new2 = pubg_new[(pubg_new['kills'] <=40) | (pubg_new['walkDistance'] >= 300)]\n",
    "#pubg_new2\n",
    "#4445399"
   ]
  },
  {
   "cell_type": "code",
   "execution_count": 8,
   "metadata": {},
   "outputs": [],
   "source": [
    "#Cheaters 3: 10 roadkills above but didn't really move the car\n",
    "pubg_new3 = pubg_new2[(pubg_new2['roadKills'] <10) | (pubg_new2['rideDistance'] > 1000)]\n",
    "#pubg_new3\n",
    "#4445397"
   ]
  },
  {
   "cell_type": "code",
   "execution_count": 9,
   "metadata": {},
   "outputs": [],
   "source": [
    "#Cheaters 4: got 50 weapons but didn't really move\n",
    "pubg_new4 = pubg_new3[(pubg_new3['weaponsAcquired'] <50) | (pubg_new3['walkDistance'] > 500)]\n",
    "#pubg_new4\n",
    "#4445339"
   ]
  },
  {
   "cell_type": "code",
   "execution_count": 10,
   "metadata": {},
   "outputs": [],
   "source": [
    "#Cheaters 5: use 30 and more heal items\n",
    "pubg_new5 = pubg_new4[pubg_new4['weaponsAcquired'] <30]\n",
    "#pubg_new5\n",
    "#4444415"
   ]
  },
  {
   "cell_type": "code",
   "execution_count": 11,
   "metadata": {},
   "outputs": [],
   "source": [
    "# sns.distplot(pubg['heals'],bins = 15)\n",
    "# plt.show()\n",
    "# plt.savefig('dist_heal.png')\n",
    "# \n",
    "\n",
    "# sns.scatterplot(x=pubg['kills'],y = pubg['winPlacePerc'])\n",
    "# plt.show()\n",
    "# plt.savefig('dist_heal.png')\n",
    "\n"
   ]
  },
  {
   "cell_type": "code",
   "execution_count": 12,
   "metadata": {},
   "outputs": [],
   "source": [
    "pubg_new5.to_csv(\"pubg.csv\", index=False)"
   ]
  }
 ],
 "metadata": {
  "kernelspec": {
   "display_name": "Python 3",
   "language": "python",
   "name": "python3"
  },
  "language_info": {
   "codemirror_mode": {
    "name": "ipython",
    "version": 3
   },
   "file_extension": ".py",
   "mimetype": "text/x-python",
   "name": "python",
   "nbconvert_exporter": "python",
   "pygments_lexer": "ipython3",
   "version": "3.7.6"
  }
 },
 "nbformat": 4,
 "nbformat_minor": 4
}
